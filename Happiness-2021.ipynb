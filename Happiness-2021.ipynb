{
 "cells": [
  {
   "cell_type": "code",
   "execution_count": 1,
   "id": "865fb99e-146c-4845-a7d8-ebb51e6fd650",
   "metadata": {},
   "outputs": [],
   "source": [
    "import pandas as pd\n",
    "import numpy as np\n",
    "import matplotlib as plt\n",
    "import seaborn as sns\n",
    "import os"
   ]
  },
  {
   "cell_type": "code",
   "execution_count": 2,
   "id": "5831cb7f-cf3c-47f0-9a3d-d386bc73c8a8",
   "metadata": {},
   "outputs": [
    {
     "data": {
      "text/html": [
       "<div>\n",
       "<style scoped>\n",
       "    .dataframe tbody tr th:only-of-type {\n",
       "        vertical-align: middle;\n",
       "    }\n",
       "\n",
       "    .dataframe tbody tr th {\n",
       "        vertical-align: top;\n",
       "    }\n",
       "\n",
       "    .dataframe thead th {\n",
       "        text-align: right;\n",
       "    }\n",
       "</style>\n",
       "<table border=\"1\" class=\"dataframe\">\n",
       "  <thead>\n",
       "    <tr style=\"text-align: right;\">\n",
       "      <th></th>\n",
       "      <th>Country name</th>\n",
       "      <th>Regional indicator</th>\n",
       "      <th>Ladder score</th>\n",
       "      <th>Standard error of ladder score</th>\n",
       "      <th>upperwhisker</th>\n",
       "      <th>lowerwhisker</th>\n",
       "      <th>Logged GDP per capita</th>\n",
       "      <th>Social support</th>\n",
       "      <th>Healthy life expectancy</th>\n",
       "      <th>Freedom to make life choices</th>\n",
       "      <th>Generosity</th>\n",
       "      <th>Perceptions of corruption</th>\n",
       "      <th>Ladder score in Dystopia</th>\n",
       "      <th>Explained by: Log GDP per capita</th>\n",
       "      <th>Explained by: Social support</th>\n",
       "      <th>Explained by: Healthy life expectancy</th>\n",
       "      <th>Explained by: Freedom to make life choices</th>\n",
       "      <th>Explained by: Generosity</th>\n",
       "      <th>Explained by: Perceptions of corruption</th>\n",
       "      <th>Dystopia + residual</th>\n",
       "    </tr>\n",
       "  </thead>\n",
       "  <tbody>\n",
       "    <tr>\n",
       "      <th>0</th>\n",
       "      <td>Finland</td>\n",
       "      <td>Western Europe</td>\n",
       "      <td>7.842</td>\n",
       "      <td>0.032</td>\n",
       "      <td>7.904</td>\n",
       "      <td>7.780</td>\n",
       "      <td>10.775</td>\n",
       "      <td>0.954</td>\n",
       "      <td>72.000</td>\n",
       "      <td>0.949</td>\n",
       "      <td>-0.098</td>\n",
       "      <td>0.186</td>\n",
       "      <td>2.43</td>\n",
       "      <td>1.446</td>\n",
       "      <td>1.106</td>\n",
       "      <td>0.741</td>\n",
       "      <td>0.691</td>\n",
       "      <td>0.124</td>\n",
       "      <td>0.481</td>\n",
       "      <td>3.253</td>\n",
       "    </tr>\n",
       "    <tr>\n",
       "      <th>1</th>\n",
       "      <td>Denmark</td>\n",
       "      <td>Western Europe</td>\n",
       "      <td>7.620</td>\n",
       "      <td>0.035</td>\n",
       "      <td>7.687</td>\n",
       "      <td>7.552</td>\n",
       "      <td>10.933</td>\n",
       "      <td>0.954</td>\n",
       "      <td>72.700</td>\n",
       "      <td>0.946</td>\n",
       "      <td>0.030</td>\n",
       "      <td>0.179</td>\n",
       "      <td>2.43</td>\n",
       "      <td>1.502</td>\n",
       "      <td>1.108</td>\n",
       "      <td>0.763</td>\n",
       "      <td>0.686</td>\n",
       "      <td>0.208</td>\n",
       "      <td>0.485</td>\n",
       "      <td>2.868</td>\n",
       "    </tr>\n",
       "    <tr>\n",
       "      <th>2</th>\n",
       "      <td>Switzerland</td>\n",
       "      <td>Western Europe</td>\n",
       "      <td>7.571</td>\n",
       "      <td>0.036</td>\n",
       "      <td>7.643</td>\n",
       "      <td>7.500</td>\n",
       "      <td>11.117</td>\n",
       "      <td>0.942</td>\n",
       "      <td>74.400</td>\n",
       "      <td>0.919</td>\n",
       "      <td>0.025</td>\n",
       "      <td>0.292</td>\n",
       "      <td>2.43</td>\n",
       "      <td>1.566</td>\n",
       "      <td>1.079</td>\n",
       "      <td>0.816</td>\n",
       "      <td>0.653</td>\n",
       "      <td>0.204</td>\n",
       "      <td>0.413</td>\n",
       "      <td>2.839</td>\n",
       "    </tr>\n",
       "    <tr>\n",
       "      <th>3</th>\n",
       "      <td>Iceland</td>\n",
       "      <td>Western Europe</td>\n",
       "      <td>7.554</td>\n",
       "      <td>0.059</td>\n",
       "      <td>7.670</td>\n",
       "      <td>7.438</td>\n",
       "      <td>10.878</td>\n",
       "      <td>0.983</td>\n",
       "      <td>73.000</td>\n",
       "      <td>0.955</td>\n",
       "      <td>0.160</td>\n",
       "      <td>0.673</td>\n",
       "      <td>2.43</td>\n",
       "      <td>1.482</td>\n",
       "      <td>1.172</td>\n",
       "      <td>0.772</td>\n",
       "      <td>0.698</td>\n",
       "      <td>0.293</td>\n",
       "      <td>0.170</td>\n",
       "      <td>2.967</td>\n",
       "    </tr>\n",
       "    <tr>\n",
       "      <th>4</th>\n",
       "      <td>Netherlands</td>\n",
       "      <td>Western Europe</td>\n",
       "      <td>7.464</td>\n",
       "      <td>0.027</td>\n",
       "      <td>7.518</td>\n",
       "      <td>7.410</td>\n",
       "      <td>10.932</td>\n",
       "      <td>0.942</td>\n",
       "      <td>72.400</td>\n",
       "      <td>0.913</td>\n",
       "      <td>0.175</td>\n",
       "      <td>0.338</td>\n",
       "      <td>2.43</td>\n",
       "      <td>1.501</td>\n",
       "      <td>1.079</td>\n",
       "      <td>0.753</td>\n",
       "      <td>0.647</td>\n",
       "      <td>0.302</td>\n",
       "      <td>0.384</td>\n",
       "      <td>2.798</td>\n",
       "    </tr>\n",
       "    <tr>\n",
       "      <th>...</th>\n",
       "      <td>...</td>\n",
       "      <td>...</td>\n",
       "      <td>...</td>\n",
       "      <td>...</td>\n",
       "      <td>...</td>\n",
       "      <td>...</td>\n",
       "      <td>...</td>\n",
       "      <td>...</td>\n",
       "      <td>...</td>\n",
       "      <td>...</td>\n",
       "      <td>...</td>\n",
       "      <td>...</td>\n",
       "      <td>...</td>\n",
       "      <td>...</td>\n",
       "      <td>...</td>\n",
       "      <td>...</td>\n",
       "      <td>...</td>\n",
       "      <td>...</td>\n",
       "      <td>...</td>\n",
       "      <td>...</td>\n",
       "    </tr>\n",
       "    <tr>\n",
       "      <th>144</th>\n",
       "      <td>Lesotho</td>\n",
       "      <td>Sub-Saharan Africa</td>\n",
       "      <td>3.512</td>\n",
       "      <td>0.120</td>\n",
       "      <td>3.748</td>\n",
       "      <td>3.276</td>\n",
       "      <td>7.926</td>\n",
       "      <td>0.787</td>\n",
       "      <td>48.700</td>\n",
       "      <td>0.715</td>\n",
       "      <td>-0.131</td>\n",
       "      <td>0.915</td>\n",
       "      <td>2.43</td>\n",
       "      <td>0.451</td>\n",
       "      <td>0.731</td>\n",
       "      <td>0.007</td>\n",
       "      <td>0.405</td>\n",
       "      <td>0.103</td>\n",
       "      <td>0.015</td>\n",
       "      <td>1.800</td>\n",
       "    </tr>\n",
       "    <tr>\n",
       "      <th>145</th>\n",
       "      <td>Botswana</td>\n",
       "      <td>Sub-Saharan Africa</td>\n",
       "      <td>3.467</td>\n",
       "      <td>0.074</td>\n",
       "      <td>3.611</td>\n",
       "      <td>3.322</td>\n",
       "      <td>9.782</td>\n",
       "      <td>0.784</td>\n",
       "      <td>59.269</td>\n",
       "      <td>0.824</td>\n",
       "      <td>-0.246</td>\n",
       "      <td>0.801</td>\n",
       "      <td>2.43</td>\n",
       "      <td>1.099</td>\n",
       "      <td>0.724</td>\n",
       "      <td>0.340</td>\n",
       "      <td>0.539</td>\n",
       "      <td>0.027</td>\n",
       "      <td>0.088</td>\n",
       "      <td>0.648</td>\n",
       "    </tr>\n",
       "    <tr>\n",
       "      <th>146</th>\n",
       "      <td>Rwanda</td>\n",
       "      <td>Sub-Saharan Africa</td>\n",
       "      <td>3.415</td>\n",
       "      <td>0.068</td>\n",
       "      <td>3.548</td>\n",
       "      <td>3.282</td>\n",
       "      <td>7.676</td>\n",
       "      <td>0.552</td>\n",
       "      <td>61.400</td>\n",
       "      <td>0.897</td>\n",
       "      <td>0.061</td>\n",
       "      <td>0.167</td>\n",
       "      <td>2.43</td>\n",
       "      <td>0.364</td>\n",
       "      <td>0.202</td>\n",
       "      <td>0.407</td>\n",
       "      <td>0.627</td>\n",
       "      <td>0.227</td>\n",
       "      <td>0.493</td>\n",
       "      <td>1.095</td>\n",
       "    </tr>\n",
       "    <tr>\n",
       "      <th>147</th>\n",
       "      <td>Zimbabwe</td>\n",
       "      <td>Sub-Saharan Africa</td>\n",
       "      <td>3.145</td>\n",
       "      <td>0.058</td>\n",
       "      <td>3.259</td>\n",
       "      <td>3.030</td>\n",
       "      <td>7.943</td>\n",
       "      <td>0.750</td>\n",
       "      <td>56.201</td>\n",
       "      <td>0.677</td>\n",
       "      <td>-0.047</td>\n",
       "      <td>0.821</td>\n",
       "      <td>2.43</td>\n",
       "      <td>0.457</td>\n",
       "      <td>0.649</td>\n",
       "      <td>0.243</td>\n",
       "      <td>0.359</td>\n",
       "      <td>0.157</td>\n",
       "      <td>0.075</td>\n",
       "      <td>1.205</td>\n",
       "    </tr>\n",
       "    <tr>\n",
       "      <th>148</th>\n",
       "      <td>Afghanistan</td>\n",
       "      <td>South Asia</td>\n",
       "      <td>2.523</td>\n",
       "      <td>0.038</td>\n",
       "      <td>2.596</td>\n",
       "      <td>2.449</td>\n",
       "      <td>7.695</td>\n",
       "      <td>0.463</td>\n",
       "      <td>52.493</td>\n",
       "      <td>0.382</td>\n",
       "      <td>-0.102</td>\n",
       "      <td>0.924</td>\n",
       "      <td>2.43</td>\n",
       "      <td>0.370</td>\n",
       "      <td>0.000</td>\n",
       "      <td>0.126</td>\n",
       "      <td>0.000</td>\n",
       "      <td>0.122</td>\n",
       "      <td>0.010</td>\n",
       "      <td>1.895</td>\n",
       "    </tr>\n",
       "  </tbody>\n",
       "</table>\n",
       "<p>149 rows × 20 columns</p>\n",
       "</div>"
      ],
      "text/plain": [
       "    Country name  Regional indicator  Ladder score  \\\n",
       "0        Finland      Western Europe         7.842   \n",
       "1        Denmark      Western Europe         7.620   \n",
       "2    Switzerland      Western Europe         7.571   \n",
       "3        Iceland      Western Europe         7.554   \n",
       "4    Netherlands      Western Europe         7.464   \n",
       "..           ...                 ...           ...   \n",
       "144      Lesotho  Sub-Saharan Africa         3.512   \n",
       "145     Botswana  Sub-Saharan Africa         3.467   \n",
       "146       Rwanda  Sub-Saharan Africa         3.415   \n",
       "147     Zimbabwe  Sub-Saharan Africa         3.145   \n",
       "148  Afghanistan          South Asia         2.523   \n",
       "\n",
       "     Standard error of ladder score  upperwhisker  lowerwhisker  \\\n",
       "0                             0.032         7.904         7.780   \n",
       "1                             0.035         7.687         7.552   \n",
       "2                             0.036         7.643         7.500   \n",
       "3                             0.059         7.670         7.438   \n",
       "4                             0.027         7.518         7.410   \n",
       "..                              ...           ...           ...   \n",
       "144                           0.120         3.748         3.276   \n",
       "145                           0.074         3.611         3.322   \n",
       "146                           0.068         3.548         3.282   \n",
       "147                           0.058         3.259         3.030   \n",
       "148                           0.038         2.596         2.449   \n",
       "\n",
       "     Logged GDP per capita  Social support  Healthy life expectancy  \\\n",
       "0                   10.775           0.954                   72.000   \n",
       "1                   10.933           0.954                   72.700   \n",
       "2                   11.117           0.942                   74.400   \n",
       "3                   10.878           0.983                   73.000   \n",
       "4                   10.932           0.942                   72.400   \n",
       "..                     ...             ...                      ...   \n",
       "144                  7.926           0.787                   48.700   \n",
       "145                  9.782           0.784                   59.269   \n",
       "146                  7.676           0.552                   61.400   \n",
       "147                  7.943           0.750                   56.201   \n",
       "148                  7.695           0.463                   52.493   \n",
       "\n",
       "     Freedom to make life choices  Generosity  Perceptions of corruption  \\\n",
       "0                           0.949      -0.098                      0.186   \n",
       "1                           0.946       0.030                      0.179   \n",
       "2                           0.919       0.025                      0.292   \n",
       "3                           0.955       0.160                      0.673   \n",
       "4                           0.913       0.175                      0.338   \n",
       "..                            ...         ...                        ...   \n",
       "144                         0.715      -0.131                      0.915   \n",
       "145                         0.824      -0.246                      0.801   \n",
       "146                         0.897       0.061                      0.167   \n",
       "147                         0.677      -0.047                      0.821   \n",
       "148                         0.382      -0.102                      0.924   \n",
       "\n",
       "     Ladder score in Dystopia  Explained by: Log GDP per capita  \\\n",
       "0                        2.43                             1.446   \n",
       "1                        2.43                             1.502   \n",
       "2                        2.43                             1.566   \n",
       "3                        2.43                             1.482   \n",
       "4                        2.43                             1.501   \n",
       "..                        ...                               ...   \n",
       "144                      2.43                             0.451   \n",
       "145                      2.43                             1.099   \n",
       "146                      2.43                             0.364   \n",
       "147                      2.43                             0.457   \n",
       "148                      2.43                             0.370   \n",
       "\n",
       "     Explained by: Social support  Explained by: Healthy life expectancy  \\\n",
       "0                           1.106                                  0.741   \n",
       "1                           1.108                                  0.763   \n",
       "2                           1.079                                  0.816   \n",
       "3                           1.172                                  0.772   \n",
       "4                           1.079                                  0.753   \n",
       "..                            ...                                    ...   \n",
       "144                         0.731                                  0.007   \n",
       "145                         0.724                                  0.340   \n",
       "146                         0.202                                  0.407   \n",
       "147                         0.649                                  0.243   \n",
       "148                         0.000                                  0.126   \n",
       "\n",
       "     Explained by: Freedom to make life choices  Explained by: Generosity  \\\n",
       "0                                         0.691                     0.124   \n",
       "1                                         0.686                     0.208   \n",
       "2                                         0.653                     0.204   \n",
       "3                                         0.698                     0.293   \n",
       "4                                         0.647                     0.302   \n",
       "..                                          ...                       ...   \n",
       "144                                       0.405                     0.103   \n",
       "145                                       0.539                     0.027   \n",
       "146                                       0.627                     0.227   \n",
       "147                                       0.359                     0.157   \n",
       "148                                       0.000                     0.122   \n",
       "\n",
       "     Explained by: Perceptions of corruption  Dystopia + residual  \n",
       "0                                      0.481                3.253  \n",
       "1                                      0.485                2.868  \n",
       "2                                      0.413                2.839  \n",
       "3                                      0.170                2.967  \n",
       "4                                      0.384                2.798  \n",
       "..                                       ...                  ...  \n",
       "144                                    0.015                1.800  \n",
       "145                                    0.088                0.648  \n",
       "146                                    0.493                1.095  \n",
       "147                                    0.075                1.205  \n",
       "148                                    0.010                1.895  \n",
       "\n",
       "[149 rows x 20 columns]"
      ]
     },
     "execution_count": 2,
     "metadata": {},
     "output_type": "execute_result"
    }
   ],
   "source": [
    "#Reading csv file\n",
    "happiness_2021_df = pd.read_csv('C:\\\\Users\\\\liana\\\\OneDrive\\\\Desktop\\\\Final Project\\\\world-happiness-report-2021.csv')\n",
    "happiness_2021_df"
   ]
  },
  {
   "cell_type": "code",
   "execution_count": 3,
   "id": "9fcde42b-b0d2-4cb0-bbd2-71f6eba8ff7b",
   "metadata": {},
   "outputs": [
    {
     "data": {
      "text/plain": [
       "'C:\\\\Users\\\\liana\\\\OneDrive\\\\Desktop\\\\Final Project'"
      ]
     },
     "execution_count": 3,
     "metadata": {},
     "output_type": "execute_result"
    }
   ],
   "source": [
    "pwd"
   ]
  },
  {
   "cell_type": "code",
   "execution_count": 4,
   "id": "e28cee4c-63bf-44b9-9593-fb1ce39f4d13",
   "metadata": {},
   "outputs": [
    {
     "data": {
      "text/plain": [
       "Index(['Country name', 'Regional indicator', 'Ladder score',\n",
       "       'Standard error of ladder score', 'upperwhisker', 'lowerwhisker',\n",
       "       'Logged GDP per capita', 'Social support', 'Healthy life expectancy',\n",
       "       'Freedom to make life choices', 'Generosity',\n",
       "       'Perceptions of corruption', 'Ladder score in Dystopia',\n",
       "       'Explained by: Log GDP per capita', 'Explained by: Social support',\n",
       "       'Explained by: Healthy life expectancy',\n",
       "       'Explained by: Freedom to make life choices',\n",
       "       'Explained by: Generosity', 'Explained by: Perceptions of corruption',\n",
       "       'Dystopia + residual'],\n",
       "      dtype='object')"
      ]
     },
     "execution_count": 4,
     "metadata": {},
     "output_type": "execute_result"
    }
   ],
   "source": [
    "happiness_2021_df.columns"
   ]
  },
  {
   "cell_type": "code",
   "execution_count": 5,
   "id": "8c2d6baf-f7d2-4bcb-bc48-3fb170b06ae5",
   "metadata": {},
   "outputs": [
    {
     "data": {
      "text/html": [
       "<div>\n",
       "<style scoped>\n",
       "    .dataframe tbody tr th:only-of-type {\n",
       "        vertical-align: middle;\n",
       "    }\n",
       "\n",
       "    .dataframe tbody tr th {\n",
       "        vertical-align: top;\n",
       "    }\n",
       "\n",
       "    .dataframe thead th {\n",
       "        text-align: right;\n",
       "    }\n",
       "</style>\n",
       "<table border=\"1\" class=\"dataframe\">\n",
       "  <thead>\n",
       "    <tr style=\"text-align: right;\">\n",
       "      <th></th>\n",
       "      <th>Country name</th>\n",
       "      <th>Regional indicator</th>\n",
       "      <th>Ladder score</th>\n",
       "      <th>upperwhisker</th>\n",
       "      <th>lowerwhisker</th>\n",
       "      <th>Logged GDP per capita</th>\n",
       "      <th>Social support</th>\n",
       "      <th>Healthy life expectancy</th>\n",
       "      <th>Freedom to make life choices</th>\n",
       "      <th>Generosity</th>\n",
       "      <th>Perceptions of corruption</th>\n",
       "    </tr>\n",
       "  </thead>\n",
       "  <tbody>\n",
       "    <tr>\n",
       "      <th>0</th>\n",
       "      <td>Finland</td>\n",
       "      <td>Western Europe</td>\n",
       "      <td>7.842</td>\n",
       "      <td>7.904</td>\n",
       "      <td>7.780</td>\n",
       "      <td>10.775</td>\n",
       "      <td>0.954</td>\n",
       "      <td>72.000</td>\n",
       "      <td>0.949</td>\n",
       "      <td>-0.098</td>\n",
       "      <td>0.186</td>\n",
       "    </tr>\n",
       "    <tr>\n",
       "      <th>1</th>\n",
       "      <td>Denmark</td>\n",
       "      <td>Western Europe</td>\n",
       "      <td>7.620</td>\n",
       "      <td>7.687</td>\n",
       "      <td>7.552</td>\n",
       "      <td>10.933</td>\n",
       "      <td>0.954</td>\n",
       "      <td>72.700</td>\n",
       "      <td>0.946</td>\n",
       "      <td>0.030</td>\n",
       "      <td>0.179</td>\n",
       "    </tr>\n",
       "    <tr>\n",
       "      <th>2</th>\n",
       "      <td>Switzerland</td>\n",
       "      <td>Western Europe</td>\n",
       "      <td>7.571</td>\n",
       "      <td>7.643</td>\n",
       "      <td>7.500</td>\n",
       "      <td>11.117</td>\n",
       "      <td>0.942</td>\n",
       "      <td>74.400</td>\n",
       "      <td>0.919</td>\n",
       "      <td>0.025</td>\n",
       "      <td>0.292</td>\n",
       "    </tr>\n",
       "    <tr>\n",
       "      <th>3</th>\n",
       "      <td>Iceland</td>\n",
       "      <td>Western Europe</td>\n",
       "      <td>7.554</td>\n",
       "      <td>7.670</td>\n",
       "      <td>7.438</td>\n",
       "      <td>10.878</td>\n",
       "      <td>0.983</td>\n",
       "      <td>73.000</td>\n",
       "      <td>0.955</td>\n",
       "      <td>0.160</td>\n",
       "      <td>0.673</td>\n",
       "    </tr>\n",
       "    <tr>\n",
       "      <th>4</th>\n",
       "      <td>Netherlands</td>\n",
       "      <td>Western Europe</td>\n",
       "      <td>7.464</td>\n",
       "      <td>7.518</td>\n",
       "      <td>7.410</td>\n",
       "      <td>10.932</td>\n",
       "      <td>0.942</td>\n",
       "      <td>72.400</td>\n",
       "      <td>0.913</td>\n",
       "      <td>0.175</td>\n",
       "      <td>0.338</td>\n",
       "    </tr>\n",
       "    <tr>\n",
       "      <th>...</th>\n",
       "      <td>...</td>\n",
       "      <td>...</td>\n",
       "      <td>...</td>\n",
       "      <td>...</td>\n",
       "      <td>...</td>\n",
       "      <td>...</td>\n",
       "      <td>...</td>\n",
       "      <td>...</td>\n",
       "      <td>...</td>\n",
       "      <td>...</td>\n",
       "      <td>...</td>\n",
       "    </tr>\n",
       "    <tr>\n",
       "      <th>144</th>\n",
       "      <td>Lesotho</td>\n",
       "      <td>Sub-Saharan Africa</td>\n",
       "      <td>3.512</td>\n",
       "      <td>3.748</td>\n",
       "      <td>3.276</td>\n",
       "      <td>7.926</td>\n",
       "      <td>0.787</td>\n",
       "      <td>48.700</td>\n",
       "      <td>0.715</td>\n",
       "      <td>-0.131</td>\n",
       "      <td>0.915</td>\n",
       "    </tr>\n",
       "    <tr>\n",
       "      <th>145</th>\n",
       "      <td>Botswana</td>\n",
       "      <td>Sub-Saharan Africa</td>\n",
       "      <td>3.467</td>\n",
       "      <td>3.611</td>\n",
       "      <td>3.322</td>\n",
       "      <td>9.782</td>\n",
       "      <td>0.784</td>\n",
       "      <td>59.269</td>\n",
       "      <td>0.824</td>\n",
       "      <td>-0.246</td>\n",
       "      <td>0.801</td>\n",
       "    </tr>\n",
       "    <tr>\n",
       "      <th>146</th>\n",
       "      <td>Rwanda</td>\n",
       "      <td>Sub-Saharan Africa</td>\n",
       "      <td>3.415</td>\n",
       "      <td>3.548</td>\n",
       "      <td>3.282</td>\n",
       "      <td>7.676</td>\n",
       "      <td>0.552</td>\n",
       "      <td>61.400</td>\n",
       "      <td>0.897</td>\n",
       "      <td>0.061</td>\n",
       "      <td>0.167</td>\n",
       "    </tr>\n",
       "    <tr>\n",
       "      <th>147</th>\n",
       "      <td>Zimbabwe</td>\n",
       "      <td>Sub-Saharan Africa</td>\n",
       "      <td>3.145</td>\n",
       "      <td>3.259</td>\n",
       "      <td>3.030</td>\n",
       "      <td>7.943</td>\n",
       "      <td>0.750</td>\n",
       "      <td>56.201</td>\n",
       "      <td>0.677</td>\n",
       "      <td>-0.047</td>\n",
       "      <td>0.821</td>\n",
       "    </tr>\n",
       "    <tr>\n",
       "      <th>148</th>\n",
       "      <td>Afghanistan</td>\n",
       "      <td>South Asia</td>\n",
       "      <td>2.523</td>\n",
       "      <td>2.596</td>\n",
       "      <td>2.449</td>\n",
       "      <td>7.695</td>\n",
       "      <td>0.463</td>\n",
       "      <td>52.493</td>\n",
       "      <td>0.382</td>\n",
       "      <td>-0.102</td>\n",
       "      <td>0.924</td>\n",
       "    </tr>\n",
       "  </tbody>\n",
       "</table>\n",
       "<p>149 rows × 11 columns</p>\n",
       "</div>"
      ],
      "text/plain": [
       "    Country name  Regional indicator  Ladder score  upperwhisker  \\\n",
       "0        Finland      Western Europe         7.842         7.904   \n",
       "1        Denmark      Western Europe         7.620         7.687   \n",
       "2    Switzerland      Western Europe         7.571         7.643   \n",
       "3        Iceland      Western Europe         7.554         7.670   \n",
       "4    Netherlands      Western Europe         7.464         7.518   \n",
       "..           ...                 ...           ...           ...   \n",
       "144      Lesotho  Sub-Saharan Africa         3.512         3.748   \n",
       "145     Botswana  Sub-Saharan Africa         3.467         3.611   \n",
       "146       Rwanda  Sub-Saharan Africa         3.415         3.548   \n",
       "147     Zimbabwe  Sub-Saharan Africa         3.145         3.259   \n",
       "148  Afghanistan          South Asia         2.523         2.596   \n",
       "\n",
       "     lowerwhisker  Logged GDP per capita  Social support  \\\n",
       "0           7.780                 10.775           0.954   \n",
       "1           7.552                 10.933           0.954   \n",
       "2           7.500                 11.117           0.942   \n",
       "3           7.438                 10.878           0.983   \n",
       "4           7.410                 10.932           0.942   \n",
       "..            ...                    ...             ...   \n",
       "144         3.276                  7.926           0.787   \n",
       "145         3.322                  9.782           0.784   \n",
       "146         3.282                  7.676           0.552   \n",
       "147         3.030                  7.943           0.750   \n",
       "148         2.449                  7.695           0.463   \n",
       "\n",
       "     Healthy life expectancy  Freedom to make life choices  Generosity  \\\n",
       "0                     72.000                         0.949      -0.098   \n",
       "1                     72.700                         0.946       0.030   \n",
       "2                     74.400                         0.919       0.025   \n",
       "3                     73.000                         0.955       0.160   \n",
       "4                     72.400                         0.913       0.175   \n",
       "..                       ...                           ...         ...   \n",
       "144                   48.700                         0.715      -0.131   \n",
       "145                   59.269                         0.824      -0.246   \n",
       "146                   61.400                         0.897       0.061   \n",
       "147                   56.201                         0.677      -0.047   \n",
       "148                   52.493                         0.382      -0.102   \n",
       "\n",
       "     Perceptions of corruption  \n",
       "0                        0.186  \n",
       "1                        0.179  \n",
       "2                        0.292  \n",
       "3                        0.673  \n",
       "4                        0.338  \n",
       "..                         ...  \n",
       "144                      0.915  \n",
       "145                      0.801  \n",
       "146                      0.167  \n",
       "147                      0.821  \n",
       "148                      0.924  \n",
       "\n",
       "[149 rows x 11 columns]"
      ]
     },
     "execution_count": 5,
     "metadata": {},
     "output_type": "execute_result"
    }
   ],
   "source": [
    "#Dropping unnecessary fields in the datatset\n",
    "to_drop = ['Standard error of ladder score', 'Explained by: Log GDP per capita', 'Explained by: Social support', \n",
    "           'Explained by: Healthy life expectancy', 'Explained by: Freedom to make life choices', 'Explained by: Generosity',\n",
    "           'Explained by: Perceptions of corruption', 'Ladder score in Dystopia', 'Dystopia + residual']\n",
    "happiness_2021_df.drop(to_drop, inplace = True, axis = 1)\n",
    "happiness_2021_df.head(150)"
   ]
  },
  {
   "cell_type": "code",
   "execution_count": 6,
   "id": "6868f597-b69e-4102-b41b-b5ac220ee946",
   "metadata": {},
   "outputs": [
    {
     "data": {
      "text/html": [
       "<div>\n",
       "<style scoped>\n",
       "    .dataframe tbody tr th:only-of-type {\n",
       "        vertical-align: middle;\n",
       "    }\n",
       "\n",
       "    .dataframe tbody tr th {\n",
       "        vertical-align: top;\n",
       "    }\n",
       "\n",
       "    .dataframe thead th {\n",
       "        text-align: right;\n",
       "    }\n",
       "</style>\n",
       "<table border=\"1\" class=\"dataframe\">\n",
       "  <thead>\n",
       "    <tr style=\"text-align: right;\">\n",
       "      <th></th>\n",
       "      <th>COUNTRY</th>\n",
       "      <th>REGION</th>\n",
       "      <th>HAPPINESS SCORE</th>\n",
       "      <th>UPPERWHISKER</th>\n",
       "      <th>LOWERWHISKER</th>\n",
       "      <th>GDP/capita</th>\n",
       "      <th>SUPPORT</th>\n",
       "      <th>HEALTH</th>\n",
       "      <th>FREEDOM</th>\n",
       "      <th>GENEROSITY</th>\n",
       "      <th>CORRUPTION</th>\n",
       "    </tr>\n",
       "  </thead>\n",
       "  <tbody>\n",
       "    <tr>\n",
       "      <th>0</th>\n",
       "      <td>Finland</td>\n",
       "      <td>Western Europe</td>\n",
       "      <td>7.842</td>\n",
       "      <td>7.904</td>\n",
       "      <td>7.780</td>\n",
       "      <td>10.775</td>\n",
       "      <td>0.954</td>\n",
       "      <td>72.000</td>\n",
       "      <td>0.949</td>\n",
       "      <td>-0.098</td>\n",
       "      <td>0.186</td>\n",
       "    </tr>\n",
       "    <tr>\n",
       "      <th>1</th>\n",
       "      <td>Denmark</td>\n",
       "      <td>Western Europe</td>\n",
       "      <td>7.620</td>\n",
       "      <td>7.687</td>\n",
       "      <td>7.552</td>\n",
       "      <td>10.933</td>\n",
       "      <td>0.954</td>\n",
       "      <td>72.700</td>\n",
       "      <td>0.946</td>\n",
       "      <td>0.030</td>\n",
       "      <td>0.179</td>\n",
       "    </tr>\n",
       "    <tr>\n",
       "      <th>2</th>\n",
       "      <td>Switzerland</td>\n",
       "      <td>Western Europe</td>\n",
       "      <td>7.571</td>\n",
       "      <td>7.643</td>\n",
       "      <td>7.500</td>\n",
       "      <td>11.117</td>\n",
       "      <td>0.942</td>\n",
       "      <td>74.400</td>\n",
       "      <td>0.919</td>\n",
       "      <td>0.025</td>\n",
       "      <td>0.292</td>\n",
       "    </tr>\n",
       "    <tr>\n",
       "      <th>3</th>\n",
       "      <td>Iceland</td>\n",
       "      <td>Western Europe</td>\n",
       "      <td>7.554</td>\n",
       "      <td>7.670</td>\n",
       "      <td>7.438</td>\n",
       "      <td>10.878</td>\n",
       "      <td>0.983</td>\n",
       "      <td>73.000</td>\n",
       "      <td>0.955</td>\n",
       "      <td>0.160</td>\n",
       "      <td>0.673</td>\n",
       "    </tr>\n",
       "    <tr>\n",
       "      <th>4</th>\n",
       "      <td>Netherlands</td>\n",
       "      <td>Western Europe</td>\n",
       "      <td>7.464</td>\n",
       "      <td>7.518</td>\n",
       "      <td>7.410</td>\n",
       "      <td>10.932</td>\n",
       "      <td>0.942</td>\n",
       "      <td>72.400</td>\n",
       "      <td>0.913</td>\n",
       "      <td>0.175</td>\n",
       "      <td>0.338</td>\n",
       "    </tr>\n",
       "    <tr>\n",
       "      <th>...</th>\n",
       "      <td>...</td>\n",
       "      <td>...</td>\n",
       "      <td>...</td>\n",
       "      <td>...</td>\n",
       "      <td>...</td>\n",
       "      <td>...</td>\n",
       "      <td>...</td>\n",
       "      <td>...</td>\n",
       "      <td>...</td>\n",
       "      <td>...</td>\n",
       "      <td>...</td>\n",
       "    </tr>\n",
       "    <tr>\n",
       "      <th>144</th>\n",
       "      <td>Lesotho</td>\n",
       "      <td>Sub-Saharan Africa</td>\n",
       "      <td>3.512</td>\n",
       "      <td>3.748</td>\n",
       "      <td>3.276</td>\n",
       "      <td>7.926</td>\n",
       "      <td>0.787</td>\n",
       "      <td>48.700</td>\n",
       "      <td>0.715</td>\n",
       "      <td>-0.131</td>\n",
       "      <td>0.915</td>\n",
       "    </tr>\n",
       "    <tr>\n",
       "      <th>145</th>\n",
       "      <td>Botswana</td>\n",
       "      <td>Sub-Saharan Africa</td>\n",
       "      <td>3.467</td>\n",
       "      <td>3.611</td>\n",
       "      <td>3.322</td>\n",
       "      <td>9.782</td>\n",
       "      <td>0.784</td>\n",
       "      <td>59.269</td>\n",
       "      <td>0.824</td>\n",
       "      <td>-0.246</td>\n",
       "      <td>0.801</td>\n",
       "    </tr>\n",
       "    <tr>\n",
       "      <th>146</th>\n",
       "      <td>Rwanda</td>\n",
       "      <td>Sub-Saharan Africa</td>\n",
       "      <td>3.415</td>\n",
       "      <td>3.548</td>\n",
       "      <td>3.282</td>\n",
       "      <td>7.676</td>\n",
       "      <td>0.552</td>\n",
       "      <td>61.400</td>\n",
       "      <td>0.897</td>\n",
       "      <td>0.061</td>\n",
       "      <td>0.167</td>\n",
       "    </tr>\n",
       "    <tr>\n",
       "      <th>147</th>\n",
       "      <td>Zimbabwe</td>\n",
       "      <td>Sub-Saharan Africa</td>\n",
       "      <td>3.145</td>\n",
       "      <td>3.259</td>\n",
       "      <td>3.030</td>\n",
       "      <td>7.943</td>\n",
       "      <td>0.750</td>\n",
       "      <td>56.201</td>\n",
       "      <td>0.677</td>\n",
       "      <td>-0.047</td>\n",
       "      <td>0.821</td>\n",
       "    </tr>\n",
       "    <tr>\n",
       "      <th>148</th>\n",
       "      <td>Afghanistan</td>\n",
       "      <td>South Asia</td>\n",
       "      <td>2.523</td>\n",
       "      <td>2.596</td>\n",
       "      <td>2.449</td>\n",
       "      <td>7.695</td>\n",
       "      <td>0.463</td>\n",
       "      <td>52.493</td>\n",
       "      <td>0.382</td>\n",
       "      <td>-0.102</td>\n",
       "      <td>0.924</td>\n",
       "    </tr>\n",
       "  </tbody>\n",
       "</table>\n",
       "<p>149 rows × 11 columns</p>\n",
       "</div>"
      ],
      "text/plain": [
       "         COUNTRY              REGION  HAPPINESS SCORE  UPPERWHISKER  \\\n",
       "0        Finland      Western Europe            7.842         7.904   \n",
       "1        Denmark      Western Europe            7.620         7.687   \n",
       "2    Switzerland      Western Europe            7.571         7.643   \n",
       "3        Iceland      Western Europe            7.554         7.670   \n",
       "4    Netherlands      Western Europe            7.464         7.518   \n",
       "..           ...                 ...              ...           ...   \n",
       "144      Lesotho  Sub-Saharan Africa            3.512         3.748   \n",
       "145     Botswana  Sub-Saharan Africa            3.467         3.611   \n",
       "146       Rwanda  Sub-Saharan Africa            3.415         3.548   \n",
       "147     Zimbabwe  Sub-Saharan Africa            3.145         3.259   \n",
       "148  Afghanistan          South Asia            2.523         2.596   \n",
       "\n",
       "     LOWERWHISKER  GDP/capita  SUPPORT  HEALTH  FREEDOM  GENEROSITY  \\\n",
       "0           7.780      10.775    0.954  72.000    0.949      -0.098   \n",
       "1           7.552      10.933    0.954  72.700    0.946       0.030   \n",
       "2           7.500      11.117    0.942  74.400    0.919       0.025   \n",
       "3           7.438      10.878    0.983  73.000    0.955       0.160   \n",
       "4           7.410      10.932    0.942  72.400    0.913       0.175   \n",
       "..            ...         ...      ...     ...      ...         ...   \n",
       "144         3.276       7.926    0.787  48.700    0.715      -0.131   \n",
       "145         3.322       9.782    0.784  59.269    0.824      -0.246   \n",
       "146         3.282       7.676    0.552  61.400    0.897       0.061   \n",
       "147         3.030       7.943    0.750  56.201    0.677      -0.047   \n",
       "148         2.449       7.695    0.463  52.493    0.382      -0.102   \n",
       "\n",
       "     CORRUPTION  \n",
       "0         0.186  \n",
       "1         0.179  \n",
       "2         0.292  \n",
       "3         0.673  \n",
       "4         0.338  \n",
       "..          ...  \n",
       "144       0.915  \n",
       "145       0.801  \n",
       "146       0.167  \n",
       "147       0.821  \n",
       "148       0.924  \n",
       "\n",
       "[149 rows x 11 columns]"
      ]
     },
     "execution_count": 6,
     "metadata": {},
     "output_type": "execute_result"
    }
   ],
   "source": [
    "new_columns = {'Country name':'COUNTRY', 'Regional indicator':'REGION', 'Ladder score':'HAPPINESS SCORE', \n",
    "               'upperwhisker':'UPPERWHISKER', 'lowerwhisker':'LOWERWHISKER', 'Logged GDP per capita':'GDP/capita', \n",
    "               'Social support':'SUPPORT', 'Healthy life expectancy':'HEALTH', 'Freedom to make life choices':'FREEDOM', \n",
    "               'Generosity':'GENEROSITY', 'Perceptions of corruption':'CORRUPTION'}\n",
    "happiness_2021 = pd.DataFrame.rename(happiness_2021_df, columns = new_columns, inplace = True)\n",
    "happiness_2021_df.head(150)"
   ]
  },
  {
   "cell_type": "code",
   "execution_count": 7,
   "id": "b1ff2d8e-eb3d-4fee-b0bf-fdc40f026a27",
   "metadata": {},
   "outputs": [
    {
     "name": "stdout",
     "output_type": "stream",
     "text": [
      "None\n"
     ]
    }
   ],
   "source": [
    "# Checking for null values \n",
    "happiness_2021_df.isnull().sum()\n",
    "print(happiness_2021)"
   ]
  },
  {
   "cell_type": "code",
   "execution_count": 8,
   "id": "c59a2ce0-a197-4488-8406-01e8ebc86d3c",
   "metadata": {},
   "outputs": [
    {
     "name": "stdout",
     "output_type": "stream",
     "text": [
      "<class 'pandas.core.frame.DataFrame'>\n",
      "RangeIndex: 149 entries, 0 to 148\n",
      "Data columns (total 11 columns):\n",
      " #   Column           Non-Null Count  Dtype  \n",
      "---  ------           --------------  -----  \n",
      " 0   COUNTRY          149 non-null    object \n",
      " 1   REGION           149 non-null    object \n",
      " 2   HAPPINESS SCORE  149 non-null    float64\n",
      " 3   UPPERWHISKER     149 non-null    float64\n",
      " 4   LOWERWHISKER     149 non-null    float64\n",
      " 5   GDP/capita       149 non-null    float64\n",
      " 6   SUPPORT          149 non-null    float64\n",
      " 7   HEALTH           149 non-null    float64\n",
      " 8   FREEDOM          149 non-null    float64\n",
      " 9   GENEROSITY       149 non-null    float64\n",
      " 10  CORRUPTION       149 non-null    float64\n",
      "dtypes: float64(9), object(2)\n",
      "memory usage: 12.9+ KB\n"
     ]
    },
    {
     "data": {
      "text/plain": [
       "(149, 11)"
      ]
     },
     "execution_count": 8,
     "metadata": {},
     "output_type": "execute_result"
    }
   ],
   "source": [
    "# Understanding datatypes and shape\n",
    "happiness_2021_df.info()\n",
    "happiness_2021_df.shape"
   ]
  },
  {
   "cell_type": "code",
   "execution_count": 9,
   "id": "63d5178c-741f-4c60-ab14-146b6b28b719",
   "metadata": {},
   "outputs": [
    {
     "data": {
      "text/html": [
       "<div>\n",
       "<style scoped>\n",
       "    .dataframe tbody tr th:only-of-type {\n",
       "        vertical-align: middle;\n",
       "    }\n",
       "\n",
       "    .dataframe tbody tr th {\n",
       "        vertical-align: top;\n",
       "    }\n",
       "\n",
       "    .dataframe thead th {\n",
       "        text-align: right;\n",
       "    }\n",
       "</style>\n",
       "<table border=\"1\" class=\"dataframe\">\n",
       "  <thead>\n",
       "    <tr style=\"text-align: right;\">\n",
       "      <th></th>\n",
       "      <th>HAPPINESS SCORE</th>\n",
       "      <th>UPPERWHISKER</th>\n",
       "      <th>LOWERWHISKER</th>\n",
       "      <th>GDP/capita</th>\n",
       "      <th>SUPPORT</th>\n",
       "      <th>HEALTH</th>\n",
       "      <th>FREEDOM</th>\n",
       "      <th>GENEROSITY</th>\n",
       "      <th>CORRUPTION</th>\n",
       "    </tr>\n",
       "  </thead>\n",
       "  <tbody>\n",
       "    <tr>\n",
       "      <th>HAPPINESS SCORE</th>\n",
       "      <td>1.000000</td>\n",
       "      <td>0.999347</td>\n",
       "      <td>0.999396</td>\n",
       "      <td>0.789760</td>\n",
       "      <td>0.756888</td>\n",
       "      <td>0.768099</td>\n",
       "      <td>0.607753</td>\n",
       "      <td>-0.017799</td>\n",
       "      <td>-0.421140</td>\n",
       "    </tr>\n",
       "    <tr>\n",
       "      <th>UPPERWHISKER</th>\n",
       "      <td>0.999347</td>\n",
       "      <td>1.000000</td>\n",
       "      <td>0.997489</td>\n",
       "      <td>0.777995</td>\n",
       "      <td>0.749215</td>\n",
       "      <td>0.758455</td>\n",
       "      <td>0.607797</td>\n",
       "      <td>-0.012616</td>\n",
       "      <td>-0.417560</td>\n",
       "    </tr>\n",
       "    <tr>\n",
       "      <th>LOWERWHISKER</th>\n",
       "      <td>0.999396</td>\n",
       "      <td>0.997489</td>\n",
       "      <td>1.000000</td>\n",
       "      <td>0.800064</td>\n",
       "      <td>0.763299</td>\n",
       "      <td>0.776364</td>\n",
       "      <td>0.606944</td>\n",
       "      <td>-0.022794</td>\n",
       "      <td>-0.423976</td>\n",
       "    </tr>\n",
       "    <tr>\n",
       "      <th>GDP/capita</th>\n",
       "      <td>0.789760</td>\n",
       "      <td>0.777995</td>\n",
       "      <td>0.800064</td>\n",
       "      <td>1.000000</td>\n",
       "      <td>0.785299</td>\n",
       "      <td>0.859461</td>\n",
       "      <td>0.432323</td>\n",
       "      <td>-0.199286</td>\n",
       "      <td>-0.342337</td>\n",
       "    </tr>\n",
       "    <tr>\n",
       "      <th>SUPPORT</th>\n",
       "      <td>0.756888</td>\n",
       "      <td>0.749215</td>\n",
       "      <td>0.763299</td>\n",
       "      <td>0.785299</td>\n",
       "      <td>1.000000</td>\n",
       "      <td>0.723256</td>\n",
       "      <td>0.482930</td>\n",
       "      <td>-0.114946</td>\n",
       "      <td>-0.203207</td>\n",
       "    </tr>\n",
       "    <tr>\n",
       "      <th>HEALTH</th>\n",
       "      <td>0.768099</td>\n",
       "      <td>0.758455</td>\n",
       "      <td>0.776364</td>\n",
       "      <td>0.859461</td>\n",
       "      <td>0.723256</td>\n",
       "      <td>1.000000</td>\n",
       "      <td>0.461494</td>\n",
       "      <td>-0.161750</td>\n",
       "      <td>-0.364374</td>\n",
       "    </tr>\n",
       "    <tr>\n",
       "      <th>FREEDOM</th>\n",
       "      <td>0.607753</td>\n",
       "      <td>0.607797</td>\n",
       "      <td>0.606944</td>\n",
       "      <td>0.432323</td>\n",
       "      <td>0.482930</td>\n",
       "      <td>0.461494</td>\n",
       "      <td>1.000000</td>\n",
       "      <td>0.169437</td>\n",
       "      <td>-0.401363</td>\n",
       "    </tr>\n",
       "    <tr>\n",
       "      <th>GENEROSITY</th>\n",
       "      <td>-0.017799</td>\n",
       "      <td>-0.012616</td>\n",
       "      <td>-0.022794</td>\n",
       "      <td>-0.199286</td>\n",
       "      <td>-0.114946</td>\n",
       "      <td>-0.161750</td>\n",
       "      <td>0.169437</td>\n",
       "      <td>1.000000</td>\n",
       "      <td>-0.163962</td>\n",
       "    </tr>\n",
       "    <tr>\n",
       "      <th>CORRUPTION</th>\n",
       "      <td>-0.421140</td>\n",
       "      <td>-0.417560</td>\n",
       "      <td>-0.423976</td>\n",
       "      <td>-0.342337</td>\n",
       "      <td>-0.203207</td>\n",
       "      <td>-0.364374</td>\n",
       "      <td>-0.401363</td>\n",
       "      <td>-0.163962</td>\n",
       "      <td>1.000000</td>\n",
       "    </tr>\n",
       "  </tbody>\n",
       "</table>\n",
       "</div>"
      ],
      "text/plain": [
       "                 HAPPINESS SCORE  UPPERWHISKER  LOWERWHISKER  GDP/capita  \\\n",
       "HAPPINESS SCORE         1.000000      0.999347      0.999396    0.789760   \n",
       "UPPERWHISKER            0.999347      1.000000      0.997489    0.777995   \n",
       "LOWERWHISKER            0.999396      0.997489      1.000000    0.800064   \n",
       "GDP/capita              0.789760      0.777995      0.800064    1.000000   \n",
       "SUPPORT                 0.756888      0.749215      0.763299    0.785299   \n",
       "HEALTH                  0.768099      0.758455      0.776364    0.859461   \n",
       "FREEDOM                 0.607753      0.607797      0.606944    0.432323   \n",
       "GENEROSITY             -0.017799     -0.012616     -0.022794   -0.199286   \n",
       "CORRUPTION             -0.421140     -0.417560     -0.423976   -0.342337   \n",
       "\n",
       "                  SUPPORT    HEALTH   FREEDOM  GENEROSITY  CORRUPTION  \n",
       "HAPPINESS SCORE  0.756888  0.768099  0.607753   -0.017799   -0.421140  \n",
       "UPPERWHISKER     0.749215  0.758455  0.607797   -0.012616   -0.417560  \n",
       "LOWERWHISKER     0.763299  0.776364  0.606944   -0.022794   -0.423976  \n",
       "GDP/capita       0.785299  0.859461  0.432323   -0.199286   -0.342337  \n",
       "SUPPORT          1.000000  0.723256  0.482930   -0.114946   -0.203207  \n",
       "HEALTH           0.723256  1.000000  0.461494   -0.161750   -0.364374  \n",
       "FREEDOM          0.482930  0.461494  1.000000    0.169437   -0.401363  \n",
       "GENEROSITY      -0.114946 -0.161750  0.169437    1.000000   -0.163962  \n",
       "CORRUPTION      -0.203207 -0.364374 -0.401363   -0.163962    1.000000  "
      ]
     },
     "execution_count": 9,
     "metadata": {},
     "output_type": "execute_result"
    }
   ],
   "source": [
    "# Finding correlations between various variables\n",
    "happiness_2021_df.corr()"
   ]
  },
  {
   "cell_type": "code",
   "execution_count": 10,
   "id": "8498c574-4de9-4525-85ac-b337aa16634e",
   "metadata": {
    "azdata_cell_guid": "ef3eb018-1c81-493f-88a9-c7608464c0ff"
   },
   "outputs": [
    {
     "data": {
      "text/plain": [
       "Text(0.5, 1.0, 'CORRELATION MATRIX')"
      ]
     },
     "execution_count": 10,
     "metadata": {},
     "output_type": "execute_result"
    },
    {
     "data": {
      "image/png": "[encoded data removed]",
      "text/plain": [
       "<Figure size 432x288 with 2 Axes>"
      ]
     },
     "metadata": {
      "needs_background": "light"
     },
     "output_type": "display_data"
    }
   ],
   "source": [
    "#Heatmap of correlation matrix\n",
    "sns.heatmap(happiness_2021_df.corr(), annot = True).set_title('CORRELATION MATRIX')"
   ]
  },
  {
   "cell_type": "code",
   "execution_count": 11,
   "id": "6e7f3622-58b4-404b-a447-68ba6f51cb9e",
   "metadata": {},
   "outputs": [
    {
     "data": {
      "text/html": [
       "<div>\n",
       "<style scoped>\n",
       "    .dataframe tbody tr th:only-of-type {\n",
       "        vertical-align: middle;\n",
       "    }\n",
       "\n",
       "    .dataframe tbody tr th {\n",
       "        vertical-align: top;\n",
       "    }\n",
       "\n",
       "    .dataframe thead th {\n",
       "        text-align: right;\n",
       "    }\n",
       "</style>\n",
       "<table border=\"1\" class=\"dataframe\">\n",
       "  <thead>\n",
       "    <tr style=\"text-align: right;\">\n",
       "      <th></th>\n",
       "      <th>HAPPINESS SCORE</th>\n",
       "      <th>UPPERWHISKER</th>\n",
       "      <th>LOWERWHISKER</th>\n",
       "      <th>GDP/capita</th>\n",
       "      <th>SUPPORT</th>\n",
       "      <th>HEALTH</th>\n",
       "      <th>FREEDOM</th>\n",
       "      <th>GENEROSITY</th>\n",
       "      <th>CORRUPTION</th>\n",
       "    </tr>\n",
       "  </thead>\n",
       "  <tbody>\n",
       "    <tr>\n",
       "      <th>count</th>\n",
       "      <td>149.000000</td>\n",
       "      <td>149.000000</td>\n",
       "      <td>149.000000</td>\n",
       "      <td>149.000000</td>\n",
       "      <td>149.000000</td>\n",
       "      <td>149.000000</td>\n",
       "      <td>149.000000</td>\n",
       "      <td>149.000000</td>\n",
       "      <td>149.000000</td>\n",
       "    </tr>\n",
       "    <tr>\n",
       "      <th>mean</th>\n",
       "      <td>5.532839</td>\n",
       "      <td>5.648007</td>\n",
       "      <td>5.417631</td>\n",
       "      <td>9.432208</td>\n",
       "      <td>0.814745</td>\n",
       "      <td>64.992799</td>\n",
       "      <td>0.791597</td>\n",
       "      <td>-0.015134</td>\n",
       "      <td>0.727450</td>\n",
       "    </tr>\n",
       "    <tr>\n",
       "      <th>std</th>\n",
       "      <td>1.073924</td>\n",
       "      <td>1.054330</td>\n",
       "      <td>1.094879</td>\n",
       "      <td>1.158601</td>\n",
       "      <td>0.114889</td>\n",
       "      <td>6.762043</td>\n",
       "      <td>0.113332</td>\n",
       "      <td>0.150657</td>\n",
       "      <td>0.179226</td>\n",
       "    </tr>\n",
       "    <tr>\n",
       "      <th>min</th>\n",
       "      <td>2.523000</td>\n",
       "      <td>2.596000</td>\n",
       "      <td>2.449000</td>\n",
       "      <td>6.635000</td>\n",
       "      <td>0.463000</td>\n",
       "      <td>48.478000</td>\n",
       "      <td>0.382000</td>\n",
       "      <td>-0.288000</td>\n",
       "      <td>0.082000</td>\n",
       "    </tr>\n",
       "    <tr>\n",
       "      <th>25%</th>\n",
       "      <td>4.852000</td>\n",
       "      <td>4.991000</td>\n",
       "      <td>4.706000</td>\n",
       "      <td>8.541000</td>\n",
       "      <td>0.750000</td>\n",
       "      <td>59.802000</td>\n",
       "      <td>0.718000</td>\n",
       "      <td>-0.126000</td>\n",
       "      <td>0.667000</td>\n",
       "    </tr>\n",
       "    <tr>\n",
       "      <th>50%</th>\n",
       "      <td>5.534000</td>\n",
       "      <td>5.625000</td>\n",
       "      <td>5.413000</td>\n",
       "      <td>9.569000</td>\n",
       "      <td>0.832000</td>\n",
       "      <td>66.603000</td>\n",
       "      <td>0.804000</td>\n",
       "      <td>-0.036000</td>\n",
       "      <td>0.781000</td>\n",
       "    </tr>\n",
       "    <tr>\n",
       "      <th>75%</th>\n",
       "      <td>6.255000</td>\n",
       "      <td>6.344000</td>\n",
       "      <td>6.128000</td>\n",
       "      <td>10.421000</td>\n",
       "      <td>0.905000</td>\n",
       "      <td>69.600000</td>\n",
       "      <td>0.877000</td>\n",
       "      <td>0.079000</td>\n",
       "      <td>0.845000</td>\n",
       "    </tr>\n",
       "    <tr>\n",
       "      <th>max</th>\n",
       "      <td>7.842000</td>\n",
       "      <td>7.904000</td>\n",
       "      <td>7.780000</td>\n",
       "      <td>11.647000</td>\n",
       "      <td>0.983000</td>\n",
       "      <td>76.953000</td>\n",
       "      <td>0.970000</td>\n",
       "      <td>0.542000</td>\n",
       "      <td>0.939000</td>\n",
       "    </tr>\n",
       "  </tbody>\n",
       "</table>\n",
       "</div>"
      ],
      "text/plain": [
       "       HAPPINESS SCORE  UPPERWHISKER  LOWERWHISKER  GDP/capita     SUPPORT  \\\n",
       "count       149.000000    149.000000    149.000000  149.000000  149.000000   \n",
       "mean          5.532839      5.648007      5.417631    9.432208    0.814745   \n",
       "std           1.073924      1.054330      1.094879    1.158601    0.114889   \n",
       "min           2.523000      2.596000      2.449000    6.635000    0.463000   \n",
       "25%           4.852000      4.991000      4.706000    8.541000    0.750000   \n",
       "50%           5.534000      5.625000      5.413000    9.569000    0.832000   \n",
       "75%           6.255000      6.344000      6.128000   10.421000    0.905000   \n",
       "max           7.842000      7.904000      7.780000   11.647000    0.983000   \n",
       "\n",
       "           HEALTH     FREEDOM  GENEROSITY  CORRUPTION  \n",
       "count  149.000000  149.000000  149.000000  149.000000  \n",
       "mean    64.992799    0.791597   -0.015134    0.727450  \n",
       "std      6.762043    0.113332    0.150657    0.179226  \n",
       "min     48.478000    0.382000   -0.288000    0.082000  \n",
       "25%     59.802000    0.718000   -0.126000    0.667000  \n",
       "50%     66.603000    0.804000   -0.036000    0.781000  \n",
       "75%     69.600000    0.877000    0.079000    0.845000  \n",
       "max     76.953000    0.970000    0.542000    0.939000  "
      ]
     },
     "execution_count": 11,
     "metadata": {},
     "output_type": "execute_result"
    }
   ],
   "source": [
    "# Generating Descriptive Statistics\n",
    "happiness_2021_df.describe()"
   ]
  },
  {
   "cell_type": "code",
   "execution_count": 12,
   "id": "61d9d784-15a5-4e8f-94a6-a33bff1cbf0a",
   "metadata": {},
   "outputs": [
    {
     "name": "stdout",
     "output_type": "stream",
     "text": [
      "HAPPINESS SCORE    1.403\n",
      "UPPERWHISKER       1.353\n",
      "LOWERWHISKER       1.422\n",
      "GDP/capita         1.880\n",
      "SUPPORT            0.155\n",
      "HEALTH             9.798\n",
      "FREEDOM            0.159\n",
      "GENEROSITY         0.205\n",
      "CORRUPTION         0.178\n",
      "dtype: float64\n"
     ]
    }
   ],
   "source": [
    "# Detecting outliers in the dataset\n",
    "Q1 = happiness_2021_df.quantile(0.25)\n",
    "Q3 = happiness_2021_df.quantile(0.75)\n",
    "IQR = Q3-Q1\n",
    "print (IQR)"
   ]
  },
  {
   "cell_type": "code",
   "execution_count": 13,
   "id": "ff973f01-5e94-4a21-82f5-7ecf95523f4e",
   "metadata": {},
   "outputs": [
    {
     "name": "stdout",
     "output_type": "stream",
     "text": [
      "4.2232\n",
      "7.0722000000000005\n"
     ]
    }
   ],
   "source": [
    "#Quantile-based Flooring and Capping\n",
    "print(happiness_2021_df['HAPPINESS SCORE'].quantile(0.10))\n",
    "print(happiness_2021_df['HAPPINESS SCORE'].quantile(0.90))"
   ]
  },
  {
   "cell_type": "code",
   "execution_count": 14,
   "id": "3235345e-0458-4c21-af0f-ef2c01377122",
   "metadata": {},
   "outputs": [
    {
     "name": "stdout",
     "output_type": "stream",
     "text": [
      "-0.10426853999760208\n"
     ]
    }
   ],
   "source": [
    "print(happiness_2021_df['HAPPINESS SCORE'].skew())"
   ]
  },
  {
   "cell_type": "code",
   "execution_count": 15,
   "id": "26a6fc32-dd41-4dbe-8082-0b646ab00489",
   "metadata": {},
   "outputs": [],
   "source": [
    "#HAPPINESS SCORE has a Normal Distribution, since it lies within a range (-1; 1)"
   ]
  },
  {
   "cell_type": "code",
   "execution_count": 16,
   "id": "3d0fd1b4-bd91-4b75-85fe-9130a37e61d1",
   "metadata": {},
   "outputs": [
    {
     "data": {
      "image/png": "[encoded data removed]",
      "text/plain": [
       "<Figure size 432x288 with 1 Axes>"
      ]
     },
     "metadata": {
      "needs_background": "light"
     },
     "output_type": "display_data"
    }
   ],
   "source": [
    "# Plotting Happiness Score Distribution \n",
    "happiness_2021_df['HAPPINESS SCORE'].plot(kind='hist', x='HAPPINESS SCORE', title='Happiness Score Distribution');"
   ]
  },
  {
   "cell_type": "code",
   "execution_count": 17,
   "id": "83bdb921-2dad-4cf4-ba1a-5371c2723b28",
   "metadata": {},
   "outputs": [
    {
     "data": {
      "image/png": "[encoded data removed]",
      "text/plain": [
       "<Figure size 432x288 with 1 Axes>"
      ]
     },
     "metadata": {
      "needs_background": "light"
     },
     "output_type": "display_data"
    }
   ],
   "source": [
    "# Plotting orruption Distribution \n",
    "happiness_2021_df['CORRUPTION'].plot(kind='hist', x='CORRUPTION', color = 'r', title='Corruption Distribution');"
   ]
  },
  {
   "cell_type": "code",
   "execution_count": 18,
   "id": "914a8be6-02aa-4614-b014-350a619cccac",
   "metadata": {},
   "outputs": [
    {
     "name": "stdout",
     "output_type": "stream",
     "text": [
      "-1.5774645642786131\n"
     ]
    }
   ],
   "source": [
    "print(happiness_2021_df['CORRUPTION'].skew())"
   ]
  },
  {
   "cell_type": "code",
   "execution_count": 19,
   "id": "109a8dc4-5c6f-401e-8e72-987fe50a0f5b",
   "metadata": {},
   "outputs": [],
   "source": [
    "# CORRUPTION has a Nonnormal Distribution, since it lies out of a range (-1; 1)"
   ]
  },
  {
   "cell_type": "code",
   "execution_count": 20,
   "id": "25a0d174-4f0c-436d-aef4-0ec4c2d3d74c",
   "metadata": {
    "azdata_cell_guid": "ef3eb018-1c81-493f-88a9-c7608464c0ff"
   },
   "outputs": [
    {
     "data": {
      "text/plain": [
       "Text(0.5, 1.0, 'CORRELATION OF HAPPINESS SCORE & GDP/capita')"
      ]
     },
     "execution_count": 20,
     "metadata": {},
     "output_type": "execute_result"
    },
    {
     "data": {
      "image/png": "[encoded data removed]",
      "text/plain": [
       "<Figure size 432x288 with 1 Axes>"
      ]
     },
     "metadata": {
      "needs_background": "light"
     },
     "output_type": "display_data"
    }
   ],
   "source": [
    "# Plotting Correlation between Happiness Score & GDP/capita\n",
    "sns.regplot(x = 'GDP/capita', y='HAPPINESS SCORE', color = 'g', data= happiness_2021_df).set_title('CORRELATION OF HAPPINESS SCORE & GDP/capita')"
   ]
  },
  {
   "cell_type": "code",
   "execution_count": 21,
   "id": "46b76f5e-c758-447e-b243-e9fd3736aa8e",
   "metadata": {},
   "outputs": [
    {
     "data": {
      "text/plain": [
       "Text(0.5, 1.0, 'CORRELATION OF HAPPINESS SCORE & SUPPORT')"
      ]
     },
     "execution_count": 21,
     "metadata": {},
     "output_type": "execute_result"
    },
    {
     "data": {
      "image/png": "[encoded data removed]",
      "text/plain": [
       "<Figure size 432x288 with 1 Axes>"
      ]
     },
     "metadata": {
      "needs_background": "light"
     },
     "output_type": "display_data"
    }
   ],
   "source": [
    "# Plotting Correlation between Happiness Score & Support\n",
    "sns.regplot(x = 'SUPPORT', y='HAPPINESS SCORE', color = 'y', data= happiness_2021_df).set_title('CORRELATION OF HAPPINESS SCORE & SUPPORT')"
   ]
  },
  {
   "cell_type": "code",
   "execution_count": 22,
   "id": "dea9224b-bbec-4f6c-8836-5e0f482ad320",
   "metadata": {},
   "outputs": [
    {
     "data": {
      "text/plain": [
       "Text(0.5, 1.0, 'CORRELATION OF HAPPINESS SCORE & HEALTH')"
      ]
     },
     "execution_count": 22,
     "metadata": {},
     "output_type": "execute_result"
    },
    {
     "data": {
      "image/png": "[encoded data removed]",
      "text/plain": [
       "<Figure size 432x288 with 1 Axes>"
      ]
     },
     "metadata": {
      "needs_background": "light"
     },
     "output_type": "display_data"
    }
   ],
   "source": [
    "# Plotting Correlation between Happiness Score & Health\n",
    "sns.regplot(x = 'HEALTH', y='HAPPINESS SCORE', color = 'b', data= happiness_2021_df).set_title('CORRELATION OF HAPPINESS SCORE & HEALTH')"
   ]
  },
  {
   "cell_type": "code",
   "execution_count": 23,
   "id": "dcb630dd-e8b0-4156-acc9-4771cf9157a4",
   "metadata": {},
   "outputs": [
    {
     "data": {
      "text/plain": [
       "Text(0.5, 1.0, 'CORRELATION OF HAPPINESS SCORE & FREEDOM')"
      ]
     },
     "execution_count": 23,
     "metadata": {},
     "output_type": "execute_result"
    },
    {
     "data": {
      "image/png": "[encoded data removed]",
      "text/plain": [
       "<Figure size 432x288 with 1 Axes>"
      ]
     },
     "metadata": {
      "needs_background": "light"
     },
     "output_type": "display_data"
    }
   ],
   "source": [
    "# Plotting Correlation between Happiness Score & Freedom\n",
    "sns.regplot(x = 'FREEDOM', y='HAPPINESS SCORE', color = 'orange', data= happiness_2021_df).set_title('CORRELATION OF HAPPINESS SCORE & FREEDOM')"
   ]
  },
  {
   "cell_type": "code",
   "execution_count": 24,
   "id": "6c12b079-1114-4b9f-b0b4-f8b1544c860a",
   "metadata": {},
   "outputs": [
    {
     "data": {
      "text/plain": [
       "Text(0.5, 1.0, 'CORRELATION OF HAPPINESS SCORE & GENEROSITY')"
      ]
     },
     "execution_count": 24,
     "metadata": {},
     "output_type": "execute_result"
    },
    {
     "data": {
      "image/png": "[encoded data removed]",
      "text/plain": [
       "<Figure size 432x288 with 1 Axes>"
      ]
     },
     "metadata": {
      "needs_background": "light"
     },
     "output_type": "display_data"
    }
   ],
   "source": [
    "# Plotting Correlation between Happiness Score & Generosity\n",
    "sns.regplot(x = 'GENEROSITY', y='HAPPINESS SCORE', color = 'brown', data= happiness_2021_df).set_title('CORRELATION OF HAPPINESS SCORE & GENEROSITY')"
   ]
  },
  {
   "cell_type": "code",
   "execution_count": 25,
   "id": "539ff23e-2035-4689-b846-5b2ddf635fa7",
   "metadata": {},
   "outputs": [
    {
     "data": {
      "text/plain": [
       "Text(0.5, 1.0, 'CORRELATION OF HAPPINESS SCORE & CORRUPTION')"
      ]
     },
     "execution_count": 25,
     "metadata": {},
     "output_type": "execute_result"
    },
    {
     "data": {
      "image/png": "[encoded data removed]",
      "text/plain": [
       "<Figure size 432x288 with 1 Axes>"
      ]
     },
     "metadata": {
      "needs_background": "light"
     },
     "output_type": "display_data"
    }
   ],
   "source": [
    "# Plotting Correlation between Happiness Score & Corruption\n",
    "sns.regplot(x = 'CORRUPTION', y='HAPPINESS SCORE', color = 'r', data= happiness_2021_df).set_title('CORRELATION OF HAPPINESS SCORE & CORRUPTION')"
   ]
  },
  {
   "cell_type": "code",
   "execution_count": 26,
   "id": "ee1c4b91-b3c4-4a6f-aa52-6dbe18283508",
   "metadata": {},
   "outputs": [
    {
     "data": {
      "text/plain": [
       "Text(0.5, 1.0, 'CORRELATION OF GDP/capita & HEALTH')"
      ]
     },
     "execution_count": 26,
     "metadata": {},
     "output_type": "execute_result"
    },
    {
     "data": {
      "image/png": "[encoded data removed]",
      "text/plain": [
       "<Figure size 432x288 with 1 Axes>"
      ]
     },
     "metadata": {
      "needs_background": "light"
     },
     "output_type": "display_data"
    }
   ],
   "source": [
    "# Plotting Correlation between GDP/capita & Health\n",
    "sns.regplot(x = 'GDP/capita', y='HEALTH', color = 'g', data= happiness_2021_df).set_title('CORRELATION OF GDP/capita & HEALTH')"
   ]
  },
  {
   "cell_type": "code",
   "execution_count": 27,
   "id": "9b134585-1b74-4c35-b63e-b481ff242ec6",
   "metadata": {},
   "outputs": [
    {
     "data": {
      "text/plain": [
       "Text(0.5, 1.0, 'CORRELATION OF CORRUPTION & FREEDOM')"
      ]
     },
     "execution_count": 27,
     "metadata": {},
     "output_type": "execute_result"
    },
    {
     "data": {
      "image/png": "[encoded data removed]",
      "text/plain": [
       "<Figure size 432x288 with 1 Axes>"
      ]
     },
     "metadata": {
      "needs_background": "light"
     },
     "output_type": "display_data"
    }
   ],
   "source": [
    "# Plotting Correlation between Corruption & Freedom\n",
    "sns.regplot(x = 'CORRUPTION', y='FREEDOM', color = 'r', data= happiness_2021_df).set_title('CORRELATION OF CORRUPTION & FREEDOM')"
   ]
  },
  {
   "cell_type": "code",
   "execution_count": 28,
   "id": "1a72f5a5-b0fb-43c9-b4fd-4ff776d5d50b",
   "metadata": {},
   "outputs": [],
   "source": [
    "happiness_2021_df.to_csv('happiness_2021.csv')"
   ]
  },
  {
   "cell_type": "code",
   "execution_count": null,
   "id": "3dbb750c-6d1c-4586-9754-3e157d76d39c",
   "metadata": {},
   "outputs": [],
   "source": []
  }
 ],
 "metadata": {
  "kernelspec": {
   "display_name": "Python 3 (ipykernel)",
   "language": "python",
   "name": "python3"
  },
  "language_info": {
   "codemirror_mode": {
    "name": "ipython",
    "version": 3
   },
   "file_extension": ".py",
   "mimetype": "text/x-python",
   "name": "python",
   "nbconvert_exporter": "python",
   "pygments_lexer": "ipython3",
   "version": "3.9.6"
  }
 },
 "nbformat": 4,
 "nbformat_minor": 5
}
